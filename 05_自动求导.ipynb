{
  "nbformat": 4,
  "nbformat_minor": 0,
  "metadata": {
    "colab": {
      "provenance": [],
      "gpuType": "T4",
      "authorship_tag": "ABX9TyPrFUS/Y6D9ObM3f6bOwqIk",
      "include_colab_link": true
    },
    "kernelspec": {
      "name": "python3",
      "display_name": "Python 3"
    },
    "language_info": {
      "name": "python"
    }
  },
  "cells": [
    {
      "cell_type": "markdown",
      "metadata": {
        "id": "view-in-github",
        "colab_type": "text"
      },
      "source": [
        "<a href=\"https://colab.research.google.com/github/bearhz/pytorch_basic/blob/master/05_%E8%87%AA%E5%8A%A8%E6%B1%82%E5%AF%BC.ipynb\" target=\"_parent\"><img src=\"https://colab.research.google.com/assets/colab-badge.svg\" alt=\"Open In Colab\"/></a>"
      ]
    },
    {
      "cell_type": "markdown",
      "source": [
        "#解释什么是自动求导"
      ],
      "metadata": {
        "id": "ZnsWhHbEJiLq"
      }
    },
    {
      "cell_type": "markdown",
      "source": [
        "## 1. 自动求导是为了梯度下降算法\n",
        "梯度下降是根据损失函数$loss$在各个参数$\\omega_1, \\omega_2, \\omega_3 ...$上的梯度，来调整各个参数，并使$loss$逐渐下降的过程。下面举个简单的例子来解释求导（梯度）$\\frac{\\partial loss(\\omega)}{\\partial \\omega}$的过程：\n",
        "\n",
        "假设参数$\\omega$是一个$2\\times2$的矩阵$\\omega=\\begin{pmatrix}\n",
        "  \\omega_1 & \\omega_1 \\\\\n",
        "  \\omega_3 & \\omega_4 \\\\\n",
        "\\end{pmatrix}$，定义损失函数$loss=f(\\omega)$如下：\n",
        "- $y_i = \\omega_i + 2$\n",
        "- $z_i = 3 y_i^2$\n",
        "- $loss = \\overline{z}=\\frac{\\sum_{i=1}^4{z_i}}{4}$\n",
        "\n",
        "当$\\omega=\\begin{pmatrix}\n",
        "  1 & 2 \\\\\n",
        "  3 & 4 \\\\\n",
        "\\end{pmatrix}$时，求$\\frac{\\partial o}{\\partial \\omega}$"
      ],
      "metadata": {
        "id": "PnmEn39pJoHO"
      }
    },
    {
      "cell_type": "markdown",
      "source": [
        "## 2. 手动求导过程\n",
        "\n",
        "- 正向传播：根据$\\omega_i$计算$y_i$、$z_i$和$loss$。结果如下：\n",
        "  - $y = \\omega + 2 = \\begin{pmatrix} 3 & 4 \\\\ 5 & 6 \\\\ \\end{pmatrix}$\n",
        "  - $z = 3y^2 = \\begin{pmatrix} 27 & 48 \\\\ 75 & 108 \\\\ \\end{pmatrix}$\n",
        "  - $loss=64.5$\n",
        "\n",
        "- 反向传播：根据损失函数的定义，逐步求导。$\\frac{\\partial loss}{\\partial \\omega_i}=\\frac{\\partial loss}{\\partial z_i} \\times \\frac{\\partial z_i}{\\partial y_i} \\times \\frac{\\partial y_i}{\\partial \\omega_i}$，其中$i=1,2,3,4$中的一个值。结果如下：\n",
        "  - 因为$\\frac{\\partial loss}{\\partial z_i}=\\frac{1}{4} \\frac{\\partial (z_1 + z_2 + z_3 + z_4)}{\\partial z_i} = \\frac{1}{4}$，所以$\\frac{\\partial loss}{\\partial z}=\\begin{pmatrix} 0.25 & 0.25 \\\\ 0.25 & 0.25 \\\\ \\end{pmatrix}$\n",
        "  - 因为$\\frac{\\partial z_i}{\\partial y_i}=6y_i$，所以$\\frac{\\partial z}{\\partial y}=\\begin{pmatrix} 18 & 24 \\\\ 30 & 36 \\\\ \\end{pmatrix}$\n",
        "  - 因为$\\frac{\\partial y_i}{\\partial \\omega_i}=1$，所以$\\frac{\\partial y}{\\partial \\omega}=\\begin{pmatrix} 1 & 1 \\\\ 1 & 1 \\\\ \\end{pmatrix}$\n",
        "  - 所以得到$\\frac{\\partial loss}{\\partial \\omega}=\\frac{\\partial loss}{\\partial z} \\times \\frac{\\partial z}{\\partial y} \\times \\frac{\\partial y}{\\partial \\omega} = \\begin{pmatrix} 4.5 & 6 \\\\ 7.5 & 9 \\\\ \\end{pmatrix}$\n",
        "\n",
        "以上，根据计算正向传播和反向传播，我们获得了损失函数在各个方向上的偏导数。\n"
      ],
      "metadata": {
        "id": "Uk7lU3F9Mxju"
      }
    },
    {
      "cell_type": "markdown",
      "source": [
        "## 3. 使用pytorch完成梯度计算"
      ],
      "metadata": {
        "id": "rCFYEIISl-xs"
      }
    },
    {
      "cell_type": "code",
      "execution_count": null,
      "metadata": {
        "colab": {
          "base_uri": "https://localhost:8080/"
        },
        "id": "gmME43u8D_VU",
        "outputId": "2d4d4e86-0037-4af6-c794-190bd6620cda"
      },
      "outputs": [
        {
          "output_type": "stream",
          "name": "stdout",
          "text": [
            "omega = tensor([[1., 2.],\n",
            "        [3., 4.]], requires_grad=True)\n",
            "y = tensor([[3., 4.],\n",
            "        [5., 6.]], grad_fn=<AddBackward0>)\n",
            "z = tensor([[ 27.,  48.],\n",
            "        [ 75., 108.]], grad_fn=<MulBackward0>)\n",
            "loss = 64.5\n",
            "omega.grad = tensor([[4.5000, 6.0000],\n",
            "        [7.5000, 9.0000]])\n"
          ]
        }
      ],
      "source": [
        "import torch\n",
        "\n",
        "# 定义损失函数，并进行正向传播\n",
        "omega = torch.tensor([[1.,2],[3,4]], requires_grad=True)\n",
        "print(f\"omega = {omega}\")\n",
        "y = omega + 2\n",
        "print(f\"y = {y}\")\n",
        "z = 3 * (y ** 2)\n",
        "print(f\"z = {z}\")\n",
        "loss = z.mean()\n",
        "print(f\"loss = {loss}\")\n",
        "\n",
        "# 反向传播\n",
        "loss.backward()\n",
        "print(f\"omega.grad = {omega.grad}\")"
      ]
    }
  ]
}