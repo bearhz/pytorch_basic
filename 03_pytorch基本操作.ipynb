{
  "nbformat": 4,
  "nbformat_minor": 0,
  "metadata": {
    "colab": {
      "provenance": [],
      "authorship_tag": "ABX9TyNhrpfl4fhpBzjQehHSFJLS",
      "include_colab_link": true
    },
    "kernelspec": {
      "name": "python3",
      "display_name": "Python 3"
    },
    "language_info": {
      "name": "python"
    }
  },
  "cells": [
    {
      "cell_type": "markdown",
      "metadata": {
        "id": "view-in-github",
        "colab_type": "text"
      },
      "source": [
        "<a href=\"https://colab.research.google.com/github/bearhz/pytorch_basic/blob/master/03_pytorch%E5%9F%BA%E6%9C%AC%E6%93%8D%E4%BD%9C.ipynb\" target=\"_parent\"><img src=\"https://colab.research.google.com/assets/colab-badge.svg\" alt=\"Open In Colab\"/></a>"
      ]
    },
    {
      "cell_type": "markdown",
      "source": [
        "# pytorch tensor的基本运算操作"
      ],
      "metadata": {
        "id": "ABB56vF1rWhh"
      }
    },
    {
      "cell_type": "code",
      "execution_count": null,
      "metadata": {
        "id": "7EtUaKPlqa7y"
      },
      "outputs": [],
      "source": [
        "import torch"
      ]
    },
    {
      "cell_type": "code",
      "source": [
        "a = torch.randint(1,5,(2,3))\n",
        "b = torch.randint(2,10,(2,3))\n",
        "print(a)\n",
        "print(b)"
      ],
      "metadata": {
        "colab": {
          "base_uri": "https://localhost:8080/"
        },
        "id": "W23Wc4H6qxdH",
        "outputId": "038598f8-4af6-4f98-9a5f-380ddf0788a5"
      },
      "execution_count": null,
      "outputs": [
        {
          "output_type": "stream",
          "name": "stdout",
          "text": [
            "tensor([[4, 1, 3],\n",
            "        [3, 2, 4]])\n",
            "tensor([[5, 4, 8],\n",
            "        [3, 7, 6]])\n"
          ]
        }
      ]
    },
    {
      "cell_type": "markdown",
      "source": [
        "## 1. 加法"
      ],
      "metadata": {
        "id": "TqI42J-8rReH"
      }
    },
    {
      "cell_type": "code",
      "source": [
        "a+b"
      ],
      "metadata": {
        "colab": {
          "base_uri": "https://localhost:8080/"
        },
        "id": "3nwcXpTCq7DX",
        "outputId": "7dd450f8-f595-43d9-e660-719bd3259dbc"
      },
      "execution_count": null,
      "outputs": [
        {
          "output_type": "execute_result",
          "data": {
            "text/plain": [
              "tensor([[ 9,  5, 11],\n",
              "        [ 6,  9, 10]])"
            ]
          },
          "metadata": {},
          "execution_count": 7
        }
      ]
    },
    {
      "cell_type": "code",
      "source": [
        "torch.add(a,b)"
      ],
      "metadata": {
        "colab": {
          "base_uri": "https://localhost:8080/"
        },
        "id": "FY2s89YErlMa",
        "outputId": "e3718937-d62b-4b0e-d6ae-c7fac070af70"
      },
      "execution_count": null,
      "outputs": [
        {
          "output_type": "execute_result",
          "data": {
            "text/plain": [
              "tensor([[ 9,  5, 11],\n",
              "        [ 6,  9, 10]])"
            ]
          },
          "metadata": {},
          "execution_count": 8
        }
      ]
    },
    {
      "cell_type": "markdown",
      "source": [
        "**修改自己的值**"
      ],
      "metadata": {
        "id": "LtHtDWm2sOdX"
      }
    },
    {
      "cell_type": "code",
      "source": [
        "a.add_(b)\n",
        "a"
      ],
      "metadata": {
        "colab": {
          "base_uri": "https://localhost:8080/"
        },
        "id": "5iW3T-udsUc1",
        "outputId": "29c569c7-bcd0-4816-dbc2-a4d00962fab0"
      },
      "execution_count": null,
      "outputs": [
        {
          "output_type": "execute_result",
          "data": {
            "text/plain": [
              "tensor([[ 9,  5, 11],\n",
              "        [ 6,  9, 10]])"
            ]
          },
          "metadata": {},
          "execution_count": 9
        }
      ]
    },
    {
      "cell_type": "markdown",
      "source": [
        "## 2. 减法"
      ],
      "metadata": {
        "id": "xFW_WG2dsefD"
      }
    },
    {
      "cell_type": "code",
      "source": [
        "a - b"
      ],
      "metadata": {
        "colab": {
          "base_uri": "https://localhost:8080/"
        },
        "id": "KgdRmulsshf_",
        "outputId": "65d66977-e8df-4d6c-c8c7-b7992ca18f90"
      },
      "execution_count": null,
      "outputs": [
        {
          "output_type": "execute_result",
          "data": {
            "text/plain": [
              "tensor([[4, 1, 3],\n",
              "        [3, 2, 4]])"
            ]
          },
          "metadata": {},
          "execution_count": 12
        }
      ]
    },
    {
      "cell_type": "code",
      "source": [
        "a"
      ],
      "metadata": {
        "colab": {
          "base_uri": "https://localhost:8080/"
        },
        "id": "_lLJWwZxsptF",
        "outputId": "0dc526bf-8277-4f43-8897-dabb63a416bb"
      },
      "execution_count": null,
      "outputs": [
        {
          "output_type": "execute_result",
          "data": {
            "text/plain": [
              "tensor([[ 9,  5, 11],\n",
              "        [ 6,  9, 10]])"
            ]
          },
          "metadata": {},
          "execution_count": 14
        }
      ]
    },
    {
      "cell_type": "code",
      "source": [
        "a.sub_(b)"
      ],
      "metadata": {
        "colab": {
          "base_uri": "https://localhost:8080/"
        },
        "id": "WTEndA_0ssNK",
        "outputId": "bd90d30c-0f21-42bc-e9e1-2cf27053224f"
      },
      "execution_count": null,
      "outputs": [
        {
          "output_type": "execute_result",
          "data": {
            "text/plain": [
              "tensor([[4, 1, 3],\n",
              "        [3, 2, 4]])"
            ]
          },
          "metadata": {},
          "execution_count": 15
        }
      ]
    },
    {
      "cell_type": "markdown",
      "source": [
        "## 3. 乘法 除法 取余数"
      ],
      "metadata": {
        "id": "RCS_ezV4s1Zq"
      }
    },
    {
      "cell_type": "code",
      "source": [
        "print(a, a.dtype)\n",
        "print(b, b.dtype)"
      ],
      "metadata": {
        "colab": {
          "base_uri": "https://localhost:8080/"
        },
        "id": "_6sWvDeAs39Q",
        "outputId": "227adb9a-3b35-4090-a2a6-b44919b9b253"
      },
      "execution_count": null,
      "outputs": [
        {
          "output_type": "stream",
          "name": "stdout",
          "text": [
            "tensor([[4, 1, 3],\n",
            "        [3, 2, 4]]) torch.int64\n",
            "tensor([[5, 4, 8],\n",
            "        [3, 7, 6]]) torch.int64\n"
          ]
        }
      ]
    },
    {
      "cell_type": "code",
      "source": [
        "a * b"
      ],
      "metadata": {
        "colab": {
          "base_uri": "https://localhost:8080/"
        },
        "id": "gt2hzwWes6Ht",
        "outputId": "e9b0cede-a965-43e3-d7cf-c148f6221115"
      },
      "execution_count": null,
      "outputs": [
        {
          "output_type": "execute_result",
          "data": {
            "text/plain": [
              "tensor([[20,  4, 24],\n",
              "        [ 9, 14, 24]])"
            ]
          },
          "metadata": {},
          "execution_count": 17
        }
      ]
    },
    {
      "cell_type": "code",
      "source": [
        "a / b"
      ],
      "metadata": {
        "colab": {
          "base_uri": "https://localhost:8080/"
        },
        "id": "Vq3XCDyus8Y9",
        "outputId": "e007a052-61a9-4e8c-c029-df31566a8ff8"
      },
      "execution_count": null,
      "outputs": [
        {
          "output_type": "execute_result",
          "data": {
            "text/plain": [
              "tensor([[0.8000, 0.2500, 0.3750],\n",
              "        [1.0000, 0.2857, 0.6667]])"
            ]
          },
          "metadata": {},
          "execution_count": 18
        }
      ]
    },
    {
      "cell_type": "code",
      "source": [
        "# 取余数\n",
        "a % b"
      ],
      "metadata": {
        "colab": {
          "base_uri": "https://localhost:8080/"
        },
        "id": "6yLXMTHrtHnG",
        "outputId": "0fce625f-6947-4f08-88a6-605494c94377"
      },
      "execution_count": null,
      "outputs": [
        {
          "output_type": "execute_result",
          "data": {
            "text/plain": [
              "tensor([[4, 1, 3],\n",
              "        [0, 2, 4]])"
            ]
          },
          "metadata": {},
          "execution_count": 21
        }
      ]
    },
    {
      "cell_type": "code",
      "source": [
        "# 除法取整\n",
        "a // b"
      ],
      "metadata": {
        "colab": {
          "base_uri": "https://localhost:8080/"
        },
        "id": "UEyGCTqetgo6",
        "outputId": "b1d581f2-e6c0-4911-b232-7567eb84f1b4"
      },
      "execution_count": null,
      "outputs": [
        {
          "output_type": "execute_result",
          "data": {
            "text/plain": [
              "tensor([[0, 0, 0],\n",
              "        [1, 0, 0]])"
            ]
          },
          "metadata": {},
          "execution_count": 22
        }
      ]
    },
    {
      "cell_type": "markdown",
      "source": [
        "## 4. 矩阵乘法"
      ],
      "metadata": {
        "id": "wHCeB8U4vsY0"
      }
    },
    {
      "cell_type": "code",
      "source": [
        "a"
      ],
      "metadata": {
        "colab": {
          "base_uri": "https://localhost:8080/"
        },
        "id": "YPyZ4ps8vqnP",
        "outputId": "1493d27f-776c-4c8a-80d3-ab04f68d2803"
      },
      "execution_count": null,
      "outputs": [
        {
          "output_type": "execute_result",
          "data": {
            "text/plain": [
              "tensor([[4, 1, 3],\n",
              "        [3, 2, 4]])"
            ]
          },
          "metadata": {},
          "execution_count": 23
        }
      ]
    },
    {
      "cell_type": "code",
      "source": [
        "b = torch.ones(3, 5).long()\n",
        "b"
      ],
      "metadata": {
        "colab": {
          "base_uri": "https://localhost:8080/"
        },
        "id": "A3ClwDHSvwr3",
        "outputId": "883c5c6d-f8e7-4505-fa2d-d16286e08cbf"
      },
      "execution_count": null,
      "outputs": [
        {
          "output_type": "execute_result",
          "data": {
            "text/plain": [
              "tensor([[1, 1, 1, 1, 1],\n",
              "        [1, 1, 1, 1, 1],\n",
              "        [1, 1, 1, 1, 1]])"
            ]
          },
          "metadata": {},
          "execution_count": 26
        }
      ]
    },
    {
      "cell_type": "code",
      "source": [
        "torch.matmul(a,b)"
      ],
      "metadata": {
        "colab": {
          "base_uri": "https://localhost:8080/"
        },
        "id": "P5lyQ2I6v2mg",
        "outputId": "17eace6e-5b1c-4629-b16d-6eaca2f6d4b3"
      },
      "execution_count": null,
      "outputs": [
        {
          "output_type": "execute_result",
          "data": {
            "text/plain": [
              "tensor([[8, 8, 8, 8, 8],\n",
              "        [9, 9, 9, 9, 9]])"
            ]
          },
          "metadata": {},
          "execution_count": 27
        }
      ]
    },
    {
      "cell_type": "markdown",
      "source": [
        "## 5.矩阵的转置"
      ],
      "metadata": {
        "id": "LJfrRjgrwZ36"
      }
    },
    {
      "cell_type": "code",
      "source": [
        "print(a)\n",
        "a.T"
      ],
      "metadata": {
        "colab": {
          "base_uri": "https://localhost:8080/"
        },
        "id": "EABP7gqJwUs-",
        "outputId": "a5e5e2c1-11a3-41e1-b5b3-2458d2c07f1f"
      },
      "execution_count": null,
      "outputs": [
        {
          "output_type": "stream",
          "name": "stdout",
          "text": [
            "tensor([[4, 1, 3],\n",
            "        [3, 2, 4]])\n"
          ]
        },
        {
          "output_type": "execute_result",
          "data": {
            "text/plain": [
              "tensor([[4, 3],\n",
              "        [1, 2],\n",
              "        [3, 4]])"
            ]
          },
          "metadata": {},
          "execution_count": 30
        }
      ]
    },
    {
      "cell_type": "markdown",
      "source": [
        "## 6. 矩阵求和"
      ],
      "metadata": {
        "id": "Egkkia4WyXHW"
      }
    },
    {
      "cell_type": "code",
      "source": [
        "a"
      ],
      "metadata": {
        "colab": {
          "base_uri": "https://localhost:8080/"
        },
        "id": "zzINwDeUybcV",
        "outputId": "5735db7c-aadc-4b3a-a787-688e1712fea0"
      },
      "execution_count": null,
      "outputs": [
        {
          "output_type": "execute_result",
          "data": {
            "text/plain": [
              "tensor([[4, 1, 3],\n",
              "        [3, 2, 4]])"
            ]
          },
          "metadata": {},
          "execution_count": 32
        }
      ]
    },
    {
      "cell_type": "code",
      "source": [
        "a.sum()"
      ],
      "metadata": {
        "colab": {
          "base_uri": "https://localhost:8080/"
        },
        "id": "0SGonzYSyc_S",
        "outputId": "2f8ba712-da78-434f-d859-44d03791a4ab"
      },
      "execution_count": null,
      "outputs": [
        {
          "output_type": "execute_result",
          "data": {
            "text/plain": [
              "tensor(17)"
            ]
          },
          "metadata": {},
          "execution_count": 33
        }
      ]
    },
    {
      "cell_type": "code",
      "source": [
        "a.sum(axis=0)"
      ],
      "metadata": {
        "colab": {
          "base_uri": "https://localhost:8080/"
        },
        "id": "xpLU2evvyd7d",
        "outputId": "6dcceea5-babc-4f4b-e52b-6d982d0185d8"
      },
      "execution_count": null,
      "outputs": [
        {
          "output_type": "execute_result",
          "data": {
            "text/plain": [
              "tensor([7, 3, 7])"
            ]
          },
          "metadata": {},
          "execution_count": 34
        }
      ]
    },
    {
      "cell_type": "code",
      "source": [
        "a.sum(axis=1)"
      ],
      "metadata": {
        "colab": {
          "base_uri": "https://localhost:8080/"
        },
        "id": "0tK7DkUcygYa",
        "outputId": "ce370661-06f1-4adf-abbc-b0488b332c24"
      },
      "execution_count": null,
      "outputs": [
        {
          "output_type": "execute_result",
          "data": {
            "text/plain": [
              "tensor([8, 9])"
            ]
          },
          "metadata": {},
          "execution_count": 35
        }
      ]
    },
    {
      "cell_type": "markdown",
      "source": [
        "## 7. 矩阵找最值"
      ],
      "metadata": {
        "id": "vihWTgkNykMy"
      }
    },
    {
      "cell_type": "code",
      "source": [
        "a = torch.rand(3,4)\n",
        "a"
      ],
      "metadata": {
        "colab": {
          "base_uri": "https://localhost:8080/"
        },
        "id": "BIVizX5HyiV9",
        "outputId": "aa12260d-edef-483d-8a54-f27d28daef42"
      },
      "execution_count": null,
      "outputs": [
        {
          "output_type": "execute_result",
          "data": {
            "text/plain": [
              "tensor([[0.2391, 0.1468, 0.9453, 0.6672],\n",
              "        [0.0469, 0.6806, 0.1603, 0.8650],\n",
              "        [0.8506, 0.2688, 0.5522, 0.4265]])"
            ]
          },
          "metadata": {},
          "execution_count": 42
        }
      ]
    },
    {
      "cell_type": "code",
      "source": [
        "torch.min(a)"
      ],
      "metadata": {
        "colab": {
          "base_uri": "https://localhost:8080/"
        },
        "id": "HKwQ4RXeyp1l",
        "outputId": "7ee60d9b-764d-4c0c-ad85-29447a2cd6df"
      },
      "execution_count": null,
      "outputs": [
        {
          "output_type": "execute_result",
          "data": {
            "text/plain": [
              "tensor(0.0469)"
            ]
          },
          "metadata": {},
          "execution_count": 43
        }
      ]
    },
    {
      "cell_type": "code",
      "source": [
        "torch.max(a)"
      ],
      "metadata": {
        "colab": {
          "base_uri": "https://localhost:8080/"
        },
        "id": "Ucmk5rfeyrcm",
        "outputId": "f65e8348-59f2-40ff-c116-1a6ee30cd3af"
      },
      "execution_count": null,
      "outputs": [
        {
          "output_type": "execute_result",
          "data": {
            "text/plain": [
              "tensor(0.9453)"
            ]
          },
          "metadata": {},
          "execution_count": 44
        }
      ]
    },
    {
      "cell_type": "code",
      "source": [
        "# 找索引\n",
        "torch.argmin(a)"
      ],
      "metadata": {
        "colab": {
          "base_uri": "https://localhost:8080/"
        },
        "id": "W4LYB-DbytON",
        "outputId": "5547157f-2d82-4128-e757-7c8d83b25ade"
      },
      "execution_count": null,
      "outputs": [
        {
          "output_type": "execute_result",
          "data": {
            "text/plain": [
              "tensor(4)"
            ]
          },
          "metadata": {},
          "execution_count": 45
        }
      ]
    },
    {
      "cell_type": "code",
      "source": [
        "torch.argmax(a)"
      ],
      "metadata": {
        "colab": {
          "base_uri": "https://localhost:8080/"
        },
        "id": "lKUjVkIEyxmy",
        "outputId": "db199463-cc94-43ce-c9b2-472d592234ec"
      },
      "execution_count": null,
      "outputs": [
        {
          "output_type": "execute_result",
          "data": {
            "text/plain": [
              "tensor(2)"
            ]
          },
          "metadata": {},
          "execution_count": 46
        }
      ]
    },
    {
      "cell_type": "markdown",
      "source": [
        "## 8. 平均值和中位数"
      ],
      "metadata": {
        "id": "-qb5jacXzdH0"
      }
    },
    {
      "cell_type": "code",
      "source": [
        "a.mean()"
      ],
      "metadata": {
        "colab": {
          "base_uri": "https://localhost:8080/"
        },
        "id": "m2c7yvhyy5Qd",
        "outputId": "29276eee-5c8a-49b1-d000-dd30073e6296"
      },
      "execution_count": null,
      "outputs": [
        {
          "output_type": "execute_result",
          "data": {
            "text/plain": [
              "tensor(0.4874)"
            ]
          },
          "metadata": {},
          "execution_count": 47
        }
      ]
    },
    {
      "cell_type": "code",
      "source": [
        "a.mean(axis=0)"
      ],
      "metadata": {
        "colab": {
          "base_uri": "https://localhost:8080/"
        },
        "id": "d4qpBeK5zhNP",
        "outputId": "685037e8-7a35-4b65-e99a-df6c10749887"
      },
      "execution_count": null,
      "outputs": [
        {
          "output_type": "execute_result",
          "data": {
            "text/plain": [
              "tensor([0.3789, 0.3654, 0.5526, 0.6529])"
            ]
          },
          "metadata": {},
          "execution_count": 48
        }
      ]
    },
    {
      "cell_type": "code",
      "source": [
        "a.mean(axis = 1)"
      ],
      "metadata": {
        "colab": {
          "base_uri": "https://localhost:8080/"
        },
        "id": "hyt-LmKtzi-Q",
        "outputId": "d9d4888a-640e-498b-ca68-3415277dbd6c"
      },
      "execution_count": null,
      "outputs": [
        {
          "output_type": "execute_result",
          "data": {
            "text/plain": [
              "tensor([0.4996, 0.4382, 0.5245])"
            ]
          },
          "metadata": {},
          "execution_count": 49
        }
      ]
    },
    {
      "cell_type": "code",
      "source": [
        "c = a.view(12)\n",
        "print(a)\n",
        "median_value, median_index = c.median(dim = 0)\n",
        "print(f\"median_value={median_value}, median_index={median_index}\")"
      ],
      "metadata": {
        "colab": {
          "base_uri": "https://localhost:8080/"
        },
        "id": "hUegBuCJzkos",
        "outputId": "7e46ae11-0117-4109-d299-8bde34c5498b"
      },
      "execution_count": null,
      "outputs": [
        {
          "output_type": "stream",
          "name": "stdout",
          "text": [
            "tensor([[0.2391, 0.1468, 0.9453, 0.6672],\n",
            "        [0.0469, 0.6806, 0.1603, 0.8650],\n",
            "        [0.8506, 0.2688, 0.5522, 0.4265]])\n",
            "median_value=0.4264528751373291, median_index=11\n"
          ]
        }
      ]
    },
    {
      "cell_type": "code",
      "source": [
        "median_value, median_index = a.median(dim = 0)\n",
        "print(f\"dim 0: median_value={median_value}, median_index={median_index}\")\n",
        "median_value, median_index = a.median(dim = 1)\n",
        "print(f\"dim 1: median_value={median_value}, median_index={median_index}\")"
      ],
      "metadata": {
        "colab": {
          "base_uri": "https://localhost:8080/"
        },
        "id": "cD8q9rWXAHZN",
        "outputId": "a3efb589-f04c-46e9-a44c-1999321d4275"
      },
      "execution_count": null,
      "outputs": [
        {
          "output_type": "stream",
          "name": "stdout",
          "text": [
            "dim 0: median_value=tensor([0.2391, 0.2688, 0.5522, 0.6672]), median_index=tensor([0, 2, 2, 0])\n",
            "dim 1: median_value=tensor([0.2391, 0.1603, 0.4265]), median_index=tensor([0, 2, 3])\n"
          ]
        }
      ]
    },
    {
      "cell_type": "markdown",
      "source": [
        "## 9. 开平方 求平方"
      ],
      "metadata": {
        "id": "B4QfkoonCh9T"
      }
    },
    {
      "cell_type": "code",
      "source": [
        "a = torch.randint(1,9,(2,3))\n",
        "a"
      ],
      "metadata": {
        "colab": {
          "base_uri": "https://localhost:8080/"
        },
        "id": "KZl4gROMCmRu",
        "outputId": "6ba99a01-4533-4dd6-c02a-e88cbe1fb87d"
      },
      "execution_count": null,
      "outputs": [
        {
          "output_type": "execute_result",
          "data": {
            "text/plain": [
              "tensor([[3, 5, 5],\n",
              "        [1, 4, 8]])"
            ]
          },
          "metadata": {},
          "execution_count": 80
        }
      ]
    },
    {
      "cell_type": "code",
      "source": [
        "a.sqrt()"
      ],
      "metadata": {
        "colab": {
          "base_uri": "https://localhost:8080/"
        },
        "id": "thtlER0ICwDH",
        "outputId": "757a4095-8ab7-404f-da50-649ba3859ce7"
      },
      "execution_count": null,
      "outputs": [
        {
          "output_type": "execute_result",
          "data": {
            "text/plain": [
              "tensor([[1.7321, 2.2361, 2.2361],\n",
              "        [1.0000, 2.0000, 2.8284]])"
            ]
          },
          "metadata": {},
          "execution_count": 81
        }
      ]
    },
    {
      "cell_type": "code",
      "source": [
        "a ** 2"
      ],
      "metadata": {
        "id": "9e_BwN-pC_gY",
        "outputId": "80482795-9372-4739-bbc9-775e75b2afef",
        "colab": {
          "base_uri": "https://localhost:8080/"
        }
      },
      "execution_count": null,
      "outputs": [
        {
          "output_type": "execute_result",
          "data": {
            "text/plain": [
              "tensor([[ 9, 25, 25],\n",
              "        [ 1, 16, 64]])"
            ]
          },
          "metadata": {},
          "execution_count": 82
        }
      ]
    }
  ]
}