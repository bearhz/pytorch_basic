{
  "nbformat": 4,
  "nbformat_minor": 0,
  "metadata": {
    "colab": {
      "provenance": [],
      "gpuType": "T4",
      "authorship_tag": "ABX9TyNJXubfiHuxOlcwaIimOgZW",
      "include_colab_link": true
    },
    "kernelspec": {
      "name": "python3",
      "display_name": "Python 3"
    },
    "language_info": {
      "name": "python"
    },
    "accelerator": "GPU"
  },
  "cells": [
    {
      "cell_type": "markdown",
      "metadata": {
        "id": "view-in-github",
        "colab_type": "text"
      },
      "source": [
        "<a href=\"https://colab.research.google.com/github/bearhz/pytorch_basic/blob/master/02_%E6%95%B0%E6%8D%AE%E7%94%9F%E6%88%90.ipynb\" target=\"_parent\"><img src=\"https://colab.research.google.com/assets/colab-badge.svg\" alt=\"Open In Colab\"/></a>"
      ]
    },
    {
      "cell_type": "markdown",
      "source": [
        "# pytorch生成数据"
      ],
      "metadata": {
        "id": "nD49f69f03ee"
      }
    },
    {
      "cell_type": "code",
      "execution_count": null,
      "metadata": {
        "id": "CqV39exDz1rX"
      },
      "outputs": [],
      "source": [
        "import torch"
      ]
    },
    {
      "cell_type": "markdown",
      "source": [
        "## 1. 生成1矩阵"
      ],
      "metadata": {
        "id": "lCLspXlj0i8F"
      }
    },
    {
      "cell_type": "code",
      "source": [
        "torch.ones([2,3])"
      ],
      "metadata": {
        "colab": {
          "base_uri": "https://localhost:8080/"
        },
        "id": "lFfS5AgW0Kcn",
        "outputId": "f8243979-4f53-4783-e696-6bfacedff047"
      },
      "execution_count": null,
      "outputs": [
        {
          "output_type": "execute_result",
          "data": {
            "text/plain": [
              "tensor([[1., 1., 1.],\n",
              "        [1., 1., 1.]])"
            ]
          },
          "metadata": {},
          "execution_count": 4
        }
      ]
    },
    {
      "cell_type": "markdown",
      "source": [
        "## 2. 生成0矩阵"
      ],
      "metadata": {
        "id": "hZEvR7Ci0ofQ"
      }
    },
    {
      "cell_type": "code",
      "source": [
        "torch.zeros([3,3])"
      ],
      "metadata": {
        "colab": {
          "base_uri": "https://localhost:8080/"
        },
        "id": "j7M75z7g0ORE",
        "outputId": "5199121b-8e77-4e1b-e459-d94c460f86c4"
      },
      "execution_count": null,
      "outputs": [
        {
          "output_type": "execute_result",
          "data": {
            "text/plain": [
              "tensor([[0., 0., 0.],\n",
              "        [0., 0., 0.],\n",
              "        [0., 0., 0.]])"
            ]
          },
          "metadata": {},
          "execution_count": 5
        }
      ]
    },
    {
      "cell_type": "markdown",
      "source": [
        "## 3. 生成0~1随机数矩阵"
      ],
      "metadata": {
        "id": "EvttHfrU0qql"
      }
    },
    {
      "cell_type": "code",
      "source": [
        "torch.rand([3,4])"
      ],
      "metadata": {
        "colab": {
          "base_uri": "https://localhost:8080/"
        },
        "id": "KGTR5-wV0TMd",
        "outputId": "ea876651-6e03-4aed-86c6-bbcdb0f78eaf"
      },
      "execution_count": null,
      "outputs": [
        {
          "output_type": "execute_result",
          "data": {
            "text/plain": [
              "tensor([[0.9877, 0.5716, 0.6056, 0.6353],\n",
              "        [0.4351, 0.7631, 0.7285, 0.6631],\n",
              "        [0.6200, 0.5568, 0.7086, 0.7079]])"
            ]
          },
          "metadata": {},
          "execution_count": 6
        }
      ]
    },
    {
      "cell_type": "markdown",
      "source": [
        "## 4. 生成0~5的整数矩阵"
      ],
      "metadata": {
        "id": "64Rzo-GD1iPE"
      }
    },
    {
      "cell_type": "code",
      "source": [
        "torch.randint(0,5,(2,3))"
      ],
      "metadata": {
        "colab": {
          "base_uri": "https://localhost:8080/"
        },
        "id": "Kf96YcKH0Znc",
        "outputId": "94db2d92-1430-46ec-e1a7-da81317c1f94"
      },
      "execution_count": null,
      "outputs": [
        {
          "output_type": "execute_result",
          "data": {
            "text/plain": [
              "tensor([[3, 4, 3],\n",
              "        [2, 2, 3]])"
            ]
          },
          "metadata": {},
          "execution_count": 7
        }
      ]
    },
    {
      "cell_type": "markdown",
      "source": [
        "## 5. 生成正态分布数据"
      ],
      "metadata": {
        "id": "gRRojwr841-B"
      }
    },
    {
      "cell_type": "code",
      "source": [
        "a = torch.normal(mean=0., std = 1., size=(3,4))\n",
        "a"
      ],
      "metadata": {
        "colab": {
          "base_uri": "https://localhost:8080/"
        },
        "id": "CTDBnnNZ1hHB",
        "outputId": "b88b4c18-4c36-4ad3-85f9-83bb540ea700"
      },
      "execution_count": null,
      "outputs": [
        {
          "output_type": "execute_result",
          "data": {
            "text/plain": [
              "tensor([[ 0.6890,  0.1294,  0.6644,  1.3197],\n",
              "        [-0.3216, -1.2029,  1.7503, -0.9781],\n",
              "        [ 0.2967, -0.1055,  0.7516, -0.9255]])"
            ]
          },
          "metadata": {},
          "execution_count": 8
        }
      ]
    },
    {
      "cell_type": "code",
      "source": [
        "a.mean()"
      ],
      "metadata": {
        "colab": {
          "base_uri": "https://localhost:8080/"
        },
        "id": "etGP6E8H5Vnn",
        "outputId": "e6b287fd-8b1e-4eb8-a1c9-09a8b185d37b"
      },
      "execution_count": null,
      "outputs": [
        {
          "output_type": "execute_result",
          "data": {
            "text/plain": [
              "tensor(0.1723)"
            ]
          },
          "metadata": {},
          "execution_count": 9
        }
      ]
    },
    {
      "cell_type": "markdown",
      "source": [
        "## 6. 模仿a生成一个b"
      ],
      "metadata": {
        "id": "Ar0XCP0c6ZAt"
      }
    },
    {
      "cell_type": "code",
      "source": [
        "b = torch.rand_like(a)\n",
        "b"
      ],
      "metadata": {
        "colab": {
          "base_uri": "https://localhost:8080/"
        },
        "id": "OHiyUQKA5Zde",
        "outputId": "fc85c914-dcfc-4672-bd3a-aa522eb7abb9"
      },
      "execution_count": null,
      "outputs": [
        {
          "output_type": "execute_result",
          "data": {
            "text/plain": [
              "tensor([[0.7209, 0.4610, 0.3774, 0.2056],\n",
              "        [0.1966, 0.1070, 0.4203, 0.9536],\n",
              "        [0.5891, 0.4073, 0.2548, 0.7567]])"
            ]
          },
          "metadata": {},
          "execution_count": 14
        }
      ]
    },
    {
      "cell_type": "code",
      "source": [
        "print(b.shape)\n",
        "print(b.size())"
      ],
      "metadata": {
        "id": "HB90O0Fw6ghV",
        "colab": {
          "base_uri": "https://localhost:8080/"
        },
        "outputId": "56609cd8-05d1-46f1-9de0-f97cfec84f14"
      },
      "execution_count": null,
      "outputs": [
        {
          "output_type": "stream",
          "name": "stdout",
          "text": [
            "torch.Size([3, 4])\n",
            "torch.Size([3, 4])\n"
          ]
        }
      ]
    },
    {
      "cell_type": "markdown",
      "source": [
        "## 7. 修改tensor的形状"
      ],
      "metadata": {
        "id": "CssaaLIAoaAa"
      }
    },
    {
      "cell_type": "code",
      "source": [
        "b.view(12)"
      ],
      "metadata": {
        "colab": {
          "base_uri": "https://localhost:8080/"
        },
        "id": "CnkB3Xpqohax",
        "outputId": "0085f8d0-e686-444c-eb2e-0e21995e53fe"
      },
      "execution_count": null,
      "outputs": [
        {
          "output_type": "execute_result",
          "data": {
            "text/plain": [
              "tensor([0.7209, 0.4610, 0.3774, 0.2056, 0.1966, 0.1070, 0.4203, 0.9536, 0.5891,\n",
              "        0.4073, 0.2548, 0.7567])"
            ]
          },
          "metadata": {},
          "execution_count": 16
        }
      ]
    },
    {
      "cell_type": "code",
      "source": [
        "b.reshape(4,3)"
      ],
      "metadata": {
        "colab": {
          "base_uri": "https://localhost:8080/"
        },
        "id": "AMI4omAHomma",
        "outputId": "10329efb-6e31-4cb2-91f1-f4809aa69176"
      },
      "execution_count": null,
      "outputs": [
        {
          "output_type": "execute_result",
          "data": {
            "text/plain": [
              "tensor([[0.7209, 0.4610, 0.3774],\n",
              "        [0.2056, 0.1966, 0.1070],\n",
              "        [0.4203, 0.9536, 0.5891],\n",
              "        [0.4073, 0.2548, 0.7567]])"
            ]
          },
          "metadata": {},
          "execution_count": 21
        }
      ]
    },
    {
      "cell_type": "markdown",
      "source": [
        "## 8. 获取tensor的数值"
      ],
      "metadata": {
        "id": "qX2BOYI9o8V6"
      }
    },
    {
      "cell_type": "code",
      "source": [
        "b[1,1]"
      ],
      "metadata": {
        "colab": {
          "base_uri": "https://localhost:8080/"
        },
        "id": "yEy8p8pDpCYN",
        "outputId": "d794cef4-b4d3-49d2-c91c-c2084df86df5"
      },
      "execution_count": null,
      "outputs": [
        {
          "output_type": "execute_result",
          "data": {
            "text/plain": [
              "tensor(0.1070)"
            ]
          },
          "metadata": {},
          "execution_count": 24
        }
      ]
    },
    {
      "cell_type": "code",
      "source": [
        "b[1,1].dtype"
      ],
      "metadata": {
        "colab": {
          "base_uri": "https://localhost:8080/"
        },
        "id": "MoeDxZAkpNsZ",
        "outputId": "ce6724c5-78f8-4d58-b8ed-ee07f0ed231c"
      },
      "execution_count": null,
      "outputs": [
        {
          "output_type": "execute_result",
          "data": {
            "text/plain": [
              "torch.float32"
            ]
          },
          "metadata": {},
          "execution_count": 26
        }
      ]
    },
    {
      "cell_type": "code",
      "source": [
        "b[1,1].item()"
      ],
      "metadata": {
        "colab": {
          "base_uri": "https://localhost:8080/"
        },
        "id": "Ncs3TQnspH2z",
        "outputId": "687dbbe3-824e-483b-d808-e064eca38a9b"
      },
      "execution_count": null,
      "outputs": [
        {
          "output_type": "execute_result",
          "data": {
            "text/plain": [
              "0.10696911811828613"
            ]
          },
          "metadata": {},
          "execution_count": 25
        }
      ]
    },
    {
      "cell_type": "markdown",
      "source": [
        "## 9. 把tensor和numpy array之间的转换"
      ],
      "metadata": {
        "id": "4x3kvzfIpgX8"
      }
    },
    {
      "cell_type": "code",
      "source": [
        "import numpy as np\n",
        "c = np.array(b)\n",
        "c"
      ],
      "metadata": {
        "colab": {
          "base_uri": "https://localhost:8080/"
        },
        "id": "uhsi3lcSpkij",
        "outputId": "047d5661-accf-4b9b-e16d-d7bcefd61718"
      },
      "execution_count": null,
      "outputs": [
        {
          "output_type": "execute_result",
          "data": {
            "text/plain": [
              "array([[0.72086823, 0.46100795, 0.37735063, 0.20562375],\n",
              "       [0.19660407, 0.10696912, 0.42030942, 0.953581  ],\n",
              "       [0.5890683 , 0.4072765 , 0.25481904, 0.7567271 ]], dtype=float32)"
            ]
          },
          "metadata": {},
          "execution_count": 27
        }
      ]
    },
    {
      "cell_type": "code",
      "source": [
        "d = torch.tensor(c)\n",
        "d, d.dtype"
      ],
      "metadata": {
        "colab": {
          "base_uri": "https://localhost:8080/"
        },
        "id": "GeNim5yNp4-7",
        "outputId": "54caa5fb-fb07-454e-9970-dbcb6a47cea8"
      },
      "execution_count": null,
      "outputs": [
        {
          "output_type": "execute_result",
          "data": {
            "text/plain": [
              "(tensor([[0.7209, 0.4610, 0.3774, 0.2056],\n",
              "         [0.1966, 0.1070, 0.4203, 0.9536],\n",
              "         [0.5891, 0.4073, 0.2548, 0.7567]]),\n",
              " torch.float32)"
            ]
          },
          "metadata": {},
          "execution_count": 30
        }
      ]
    }
  ]
}