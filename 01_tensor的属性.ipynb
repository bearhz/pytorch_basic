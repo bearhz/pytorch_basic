{
  "nbformat": 4,
  "nbformat_minor": 0,
  "metadata": {
    "colab": {
      "provenance": [],
      "gpuType": "T4",
      "authorship_tag": "ABX9TyPu7FcXJG/7kt9b1YryZBIc",
      "include_colab_link": true
    },
    "kernelspec": {
      "name": "python3",
      "display_name": "Python 3"
    },
    "language_info": {
      "name": "python"
    },
    "accelerator": "GPU"
  },
  "cells": [
    {
      "cell_type": "markdown",
      "metadata": {
        "id": "view-in-github",
        "colab_type": "text"
      },
      "source": [
        "<a href=\"https://colab.research.google.com/github/bearhz/pytorch_basic/blob/master/01_tensor%E7%9A%84%E5%B1%9E%E6%80%A7.ipynb\" target=\"_parent\"><img src=\"https://colab.research.google.com/assets/colab-badge.svg\" alt=\"Open In Colab\"/></a>"
      ]
    },
    {
      "cell_type": "code",
      "execution_count": null,
      "metadata": {
        "id": "NY8PBNR3wlDe"
      },
      "outputs": [],
      "source": [
        "import torch"
      ]
    },
    {
      "cell_type": "code",
      "source": [
        "a = torch.tensor([1,2,3], dtype=int)"
      ],
      "metadata": {
        "id": "VxDphkAYw7YD"
      },
      "execution_count": null,
      "outputs": []
    },
    {
      "cell_type": "code",
      "source": [
        "print(f\"a={a}; type(a)={type(a)}; a.dtype={a.dtype}\")"
      ],
      "metadata": {
        "colab": {
          "base_uri": "https://localhost:8080/"
        },
        "id": "BjivMUlBxMXW",
        "outputId": "84cc024f-e31d-4321-b468-9c55cfe67631"
      },
      "execution_count": null,
      "outputs": [
        {
          "output_type": "stream",
          "name": "stdout",
          "text": [
            "a=tensor([1, 2, 3]); type(a)=<class 'torch.Tensor'>; a.dtype=torch.int64\n"
          ]
        }
      ]
    },
    {
      "cell_type": "code",
      "source": [
        "b = torch.tensor([1,2,3], dtype=float)\n",
        "print(f\"b={b}; b.dtype={b.dtype}\")"
      ],
      "metadata": {
        "colab": {
          "base_uri": "https://localhost:8080/"
        },
        "id": "EmJdzhlOxZ3b",
        "outputId": "0def9fae-5394-46e8-bb26-689acb1ca55a"
      },
      "execution_count": null,
      "outputs": [
        {
          "output_type": "stream",
          "name": "stdout",
          "text": [
            "b=tensor([1., 2., 3.], dtype=torch.float64); b.dtype=torch.float64\n"
          ]
        }
      ]
    },
    {
      "cell_type": "code",
      "source": [
        "c = torch.tensor([[1,2,3],[4,5,6.]])\n",
        "print(f\"c={c}\\nc.ndim={c.ndim}\\nc.shape={c.shape}\\nc.size()={c.size()}\\nc.dtype={c.dtype}\")"
      ],
      "metadata": {
        "colab": {
          "base_uri": "https://localhost:8080/"
        },
        "id": "3JDpkDWFxtSn",
        "outputId": "e8affdeb-7b50-48a1-d5d2-4fd0a6dbb091"
      },
      "execution_count": null,
      "outputs": [
        {
          "output_type": "stream",
          "name": "stdout",
          "text": [
            "c=tensor([[1., 2., 3.],\n",
            "        [4., 5., 6.]])\n",
            "c.ndim=2\n",
            "c.shape=torch.Size([2, 3])\n",
            "c.size()=torch.Size([2, 3])\n",
            "c.dtype=torch.float32\n"
          ]
        }
      ]
    }
  ]
}